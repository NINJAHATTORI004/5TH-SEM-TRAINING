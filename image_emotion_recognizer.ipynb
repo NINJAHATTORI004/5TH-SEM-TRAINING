{
  "nbformat": 4,
  "nbformat_minor": 0,
  "metadata": {
    "colab": {
      "provenance": [],
      "authorship_tag": "ABX9TyNSD88Fm3YBFptHCgcwX75a",
      "include_colab_link": true
    },
    "kernelspec": {
      "name": "python3",
      "display_name": "Python 3"
    },
    "language_info": {
      "name": "python"
    }
  },
  "cells": [
    {
      "cell_type": "markdown",
      "metadata": {
        "id": "view-in-github",
        "colab_type": "text"
      },
      "source": [
        "<a href=\"https://colab.research.google.com/github/NINJAHATTORI004/5TH-SEM-TRAINING/blob/main/image_emotion_recognizer.ipynb\" target=\"_parent\"><img src=\"https://colab.research.google.com/assets/colab-badge.svg\" alt=\"Open In Colab\"/></a>"
      ]
    },
    {
      "cell_type": "code",
      "execution_count": 2,
      "metadata": {
        "colab": {
          "base_uri": "https://localhost:8080/",
          "height": 110
        },
        "id": "1mSsgFxzaci7",
        "outputId": "190a950f-f401-43e8-8d44-315cb4c2d685"
      },
      "outputs": [
        {
          "output_type": "error",
          "ename": "SyntaxError",
          "evalue": "invalid syntax (<ipython-input-2-f3c330bab040>, line 1)",
          "traceback": [
            "\u001b[0;36m  File \u001b[0;32m\"<ipython-input-2-f3c330bab040>\"\u001b[0;36m, line \u001b[0;32m1\u001b[0m\n\u001b[0;31m    import { pipeline } from 'transformers';\u001b[0m\n\u001b[0m           ^\u001b[0m\n\u001b[0;31mSyntaxError\u001b[0m\u001b[0;31m:\u001b[0m invalid syntax\n"
          ]
        }
      ],
      "source": [
        "import { pipeline } from 'transformers';\n",
        "import cv2 from 'opencv4nodejs';\n",
        "import Tesseract from 'tesseract.js';\n",
        "\n",
        "async function analyzeSentiment(imagePath) {\n",
        "  try {\n",
        "    console.log('Loading image...');\n",
        "    const img = await cv2.imread(imagePath);\n",
        "    const imgRgb = img.cvtColor(cv2.COLOR_BGR2RGB);\n",
        "\n",
        "    console.log('Extracting text from image...');\n",
        "    const { data: { text: extractedText } } = await Tesseract.recognize(\n",
        "      imgRgb.toBuffer(),\n",
        "      'eng'\n",
        "    );\n",
        "\n",
        "    console.log('Extracted text:', extractedText);\n",
        "\n",
        "    console.log('Performing sentiment analysis...');\n",
        "    const sentimentAnalyzer = await pipeline('sentiment-analysis');\n",
        "    const sentimentResult = await sentimentAnalyzer(extractedText);\n",
        "\n",
        "    const label = sentimentResult[0].label;\n",
        "    const score = sentimentResult[0].score;\n",
        "\n",
        "    // Map sentiment to emoji\n",
        "    let emoji = '😐';\n",
        "    if (label === 'POSITIVE') {\n",
        "      emoji = '😊';\n",
        "    } else if (label === 'NEGATIVE') {\n",
        "      emoji = '😔';\n",
        "    }\n",
        "\n",
        "    console.log('Results:');\n",
        "    console.log(`Sentiment: ${label} ${emoji}`);\n",
        "    console.log(`Confidence: ${(score * 100).toFixed(2)}%`);\n",
        "\n",
        "    return {\n",
        "      text: extractedText,\n",
        "      sentiment: label,\n",
        "      confidence: score,\n",
        "      emoji: emoji\n",
        "    };\n",
        "  } catch (error) {\n",
        "    console.error('Error during analysis:', error);\n",
        "    throw error;\n",
        "  }\n",
        "}\n",
        "\n",
        "// Example usage with a test image path\n",
        "analyzeSentiment('/content/Screenshot 2024-11-27 105541.png')\n",
        "  .then(result => console.log('Analysis complete:', result))\n",
        "  .catch(error => console.error('Analysis failed:', error));"
      ]
    }
  ]
}