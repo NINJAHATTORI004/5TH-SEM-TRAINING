{
  "nbformat": 4,
  "nbformat_minor": 0,
  "metadata": {
    "colab": {
      "provenance": [],
      "authorship_tag": "ABX9TyNpuLzkAM2e4RGCvGUeO2Z8",
      "include_colab_link": true
    },
    "kernelspec": {
      "name": "python3",
      "display_name": "Python 3"
    },
    "language_info": {
      "name": "python"
    }
  },
  "cells": [
    {
      "cell_type": "markdown",
      "metadata": {
        "id": "view-in-github",
        "colab_type": "text"
      },
      "source": [
        "<a href=\"https://colab.research.google.com/github/NINJAHATTORI004/5TH-SEM-TRAINING/blob/main/convert_beats_into_time_frame.ipynb\" target=\"_parent\"><img src=\"https://colab.research.google.com/assets/colab-badge.svg\" alt=\"Open In Colab\"/></a>"
      ]
    },
    {
      "cell_type": "code",
      "execution_count": null,
      "metadata": {
        "id": "5q2nswnLPzKs"
      },
      "outputs": [],
      "source": []
    },
    {
      "cell_type": "markdown",
      "source": [],
      "metadata": {
        "id": "XzvPtOiKUjI6"
      }
    },
    {
      "cell_type": "code",
      "source": [
        "from IPython import get_ipython\n",
        "from IPython.display import display\n",
        "#%%\n",
        "!pip install librosa numpy matplotlib\n",
        "import librosa\n",
        "import numpy as np\n",
        "import matplotlib.pyplot as plt\n",
        "audio_path = '/music.mp3'\n",
        "y, sr = librosa.load(audio_path)\n",
        "\n",
        "#calculate MFCC\n",
        "mfcc = librosa.feature.mfcc(y=y, sr=sr, n_mfcc=13)\n",
        "#extract tempo and beat frames\n",
        "tempo, beat_frames = librosa.beat.beat_track(y=y, sr=sr)\n",
        "#convert beat frames to time\n",
        "beat_times = librosa.frames_to_time(beat_frames, sr=sr)\n",
        "\n",
        "# Access the first element of the tempo array to get the float value\n",
        "print(f\"Tempo: {tempo[0]:.2f} BPM\")\n",
        "print(f\"Beat times: {beat_times}\")\n"
      ],
      "metadata": {
        "colab": {
          "base_uri": "https://localhost:8080/"
        },
        "id": "8Q3LjPSDsFma",
        "outputId": "d4a68e32-a2e4-450a-9bf3-87d02958d98f"
      },
      "execution_count": 3,
      "outputs": [
        {
          "output_type": "stream",
          "name": "stdout",
          "text": [
            "Requirement already satisfied: librosa in /usr/local/lib/python3.10/dist-packages (0.10.2.post1)\n",
            "Requirement already satisfied: numpy in /usr/local/lib/python3.10/dist-packages (1.26.4)\n",
            "Requirement already satisfied: matplotlib in /usr/local/lib/python3.10/dist-packages (3.8.0)\n",
            "Requirement already satisfied: audioread>=2.1.9 in /usr/local/lib/python3.10/dist-packages (from librosa) (3.0.1)\n",
            "Requirement already satisfied: scipy>=1.2.0 in /usr/local/lib/python3.10/dist-packages (from librosa) (1.13.1)\n",
            "Requirement already satisfied: scikit-learn>=0.20.0 in /usr/local/lib/python3.10/dist-packages (from librosa) (1.5.2)\n",
            "Requirement already satisfied: joblib>=0.14 in /usr/local/lib/python3.10/dist-packages (from librosa) (1.4.2)\n",
            "Requirement already satisfied: decorator>=4.3.0 in /usr/local/lib/python3.10/dist-packages (from librosa) (4.4.2)\n",
            "Requirement already satisfied: numba>=0.51.0 in /usr/local/lib/python3.10/dist-packages (from librosa) (0.60.0)\n",
            "Requirement already satisfied: soundfile>=0.12.1 in /usr/local/lib/python3.10/dist-packages (from librosa) (0.12.1)\n",
            "Requirement already satisfied: pooch>=1.1 in /usr/local/lib/python3.10/dist-packages (from librosa) (1.8.2)\n",
            "Requirement already satisfied: soxr>=0.3.2 in /usr/local/lib/python3.10/dist-packages (from librosa) (0.5.0.post1)\n",
            "Requirement already satisfied: typing-extensions>=4.1.1 in /usr/local/lib/python3.10/dist-packages (from librosa) (4.12.2)\n",
            "Requirement already satisfied: lazy-loader>=0.1 in /usr/local/lib/python3.10/dist-packages (from librosa) (0.4)\n",
            "Requirement already satisfied: msgpack>=1.0 in /usr/local/lib/python3.10/dist-packages (from librosa) (1.1.0)\n",
            "Requirement already satisfied: contourpy>=1.0.1 in /usr/local/lib/python3.10/dist-packages (from matplotlib) (1.3.1)\n",
            "Requirement already satisfied: cycler>=0.10 in /usr/local/lib/python3.10/dist-packages (from matplotlib) (0.12.1)\n",
            "Requirement already satisfied: fonttools>=4.22.0 in /usr/local/lib/python3.10/dist-packages (from matplotlib) (4.55.0)\n",
            "Requirement already satisfied: kiwisolver>=1.0.1 in /usr/local/lib/python3.10/dist-packages (from matplotlib) (1.4.7)\n",
            "Requirement already satisfied: packaging>=20.0 in /usr/local/lib/python3.10/dist-packages (from matplotlib) (24.2)\n",
            "Requirement already satisfied: pillow>=6.2.0 in /usr/local/lib/python3.10/dist-packages (from matplotlib) (11.0.0)\n",
            "Requirement already satisfied: pyparsing>=2.3.1 in /usr/local/lib/python3.10/dist-packages (from matplotlib) (3.2.0)\n",
            "Requirement already satisfied: python-dateutil>=2.7 in /usr/local/lib/python3.10/dist-packages (from matplotlib) (2.8.2)\n",
            "Requirement already satisfied: llvmlite<0.44,>=0.43.0dev0 in /usr/local/lib/python3.10/dist-packages (from numba>=0.51.0->librosa) (0.43.0)\n",
            "Requirement already satisfied: platformdirs>=2.5.0 in /usr/local/lib/python3.10/dist-packages (from pooch>=1.1->librosa) (4.3.6)\n",
            "Requirement already satisfied: requests>=2.19.0 in /usr/local/lib/python3.10/dist-packages (from pooch>=1.1->librosa) (2.32.3)\n",
            "Requirement already satisfied: six>=1.5 in /usr/local/lib/python3.10/dist-packages (from python-dateutil>=2.7->matplotlib) (1.16.0)\n",
            "Requirement already satisfied: threadpoolctl>=3.1.0 in /usr/local/lib/python3.10/dist-packages (from scikit-learn>=0.20.0->librosa) (3.5.0)\n",
            "Requirement already satisfied: cffi>=1.0 in /usr/local/lib/python3.10/dist-packages (from soundfile>=0.12.1->librosa) (1.17.1)\n",
            "Requirement already satisfied: pycparser in /usr/local/lib/python3.10/dist-packages (from cffi>=1.0->soundfile>=0.12.1->librosa) (2.22)\n",
            "Requirement already satisfied: charset-normalizer<4,>=2 in /usr/local/lib/python3.10/dist-packages (from requests>=2.19.0->pooch>=1.1->librosa) (3.4.0)\n",
            "Requirement already satisfied: idna<4,>=2.5 in /usr/local/lib/python3.10/dist-packages (from requests>=2.19.0->pooch>=1.1->librosa) (3.10)\n",
            "Requirement already satisfied: urllib3<3,>=1.21.1 in /usr/local/lib/python3.10/dist-packages (from requests>=2.19.0->pooch>=1.1->librosa) (2.2.3)\n",
            "Requirement already satisfied: certifi>=2017.4.17 in /usr/local/lib/python3.10/dist-packages (from requests>=2.19.0->pooch>=1.1->librosa) (2024.8.30)\n",
            "Tempo: 123.05 BPM\n",
            "Beat times: [  4.69043084   5.15482993   5.64244898   6.13006803   6.61768707\n",
            "   7.08208617   7.56970522   8.05732426   8.52172336   9.0093424\n",
            "   9.49696145   9.96136054  10.44897959  10.93659864  11.42421769\n",
            "  11.88861678  12.37623583  12.86385488  13.32825397  13.81587302\n",
            "  14.30349206  14.76789116  15.23229025  15.7199093   16.20752834\n",
            "  16.69514739  17.18276644  17.64716553  18.13478458  18.62240363\n",
            "  19.08680272  19.57442177  20.03882086  20.52643991  21.01405896\n",
            "  21.501678    21.9660771   22.45369615  22.91809524  23.40571429\n",
            "  23.89333333  24.35773243  24.84535147  25.33297052  25.82058957\n",
            "  26.28498866  26.77260771  27.26022676  27.72462585  28.2122449\n",
            "  28.69986395  29.16426304  29.65188209  30.13950113  30.60390023\n",
            "  31.09151927  31.57913832  32.04353741  32.53115646  33.01877551\n",
            "  33.50639456  33.97079365  34.4584127   34.92281179  35.41043084\n",
            "  35.89804989  36.36244898  36.85006803  37.33768707  37.82530612\n",
            "  38.28970522  38.77732426  39.26494331  39.7293424   40.21696145\n",
            "  40.68136054  41.16897959  41.65659864  42.14421769  42.60861678\n",
            "  43.09623583  43.58385488  44.04825397  44.53587302  45.02349206\n",
            "  45.48789116  45.9755102   46.46312925  46.92752834  47.41514739\n",
            "  47.90276644  48.39038549  48.87800454  49.34240363  49.80680272\n",
            "  50.29442177  50.75882086  51.24643991  51.73405896  52.19845805\n",
            "  52.6860771   53.17369615  53.66131519  54.12571429  54.61333333\n",
            "  55.10095238  55.58857143  56.05297052  56.54058957  57.00498866\n",
            "  57.49260771  57.9570068   58.44462585  58.9322449   59.41986395\n",
            "  59.90748299  60.37188209  60.85950113  61.32390023  61.83473923\n",
            "  62.32235828  62.78675737  63.25115646  63.71555556  64.2031746\n",
            "  64.69079365  65.1784127   65.64281179  66.13043084  66.61804989\n",
            "  67.08244898  67.57006803  68.05768707  68.54530612  69.00970522\n",
            "  69.49732426  69.96172336  70.4493424   70.93696145  71.40136054\n",
            "  71.88897959  72.37659864  72.86421769  73.32861678  73.81623583\n",
            "  74.30385488  74.76825397  75.25587302  75.74349206  76.20789116\n",
            "  76.6955102   77.18312925  77.64752834  78.13514739  78.62276644\n",
            "  79.11038549  79.59800454  80.06240363  80.52680272  81.01442177\n",
            "  81.50204082  81.96643991  82.45405896  82.941678    83.4060771\n",
            "  83.89369615  84.38131519  84.84571429  85.33333333  85.82095238\n",
            "  86.30857143  86.77297052  87.26058957  87.74820862  88.21260771\n",
            "  88.70022676  89.16462585  89.6522449   90.13986395  90.60426304\n",
            "  91.09188209  91.57950113  92.04390023  92.53151927  93.01913832\n",
            "  93.48353741  93.97115646  94.45877551  94.94639456  95.41079365\n",
            "  95.8984127   96.36281179  96.85043084  97.33804989  97.80244898\n",
            "  98.29006803  98.77768707  99.26530612  99.72970522 100.21732426\n",
            " 100.68172336 101.1693424  101.65696145 102.1445805  102.63219955\n",
            " 103.09659864 103.58421769 104.04861678 104.53623583 105.02385488\n",
            " 105.48825397 105.97587302 106.46349206 106.92789116 107.4155102\n",
            " 107.90312925 108.36752834 108.85514739 109.34276644 109.83038549\n",
            " 110.31800454 110.78240363 111.24680272 111.73442177 112.22204082\n",
            " 112.68643991 113.17405896 113.63845805 114.1260771  114.61369615\n",
            " 115.10131519 115.56571429 116.05333333 116.54095238 117.02857143\n",
            " 117.49297052 117.98058957 118.44498866 118.93260771 119.3970068\n",
            " 119.88462585 120.3722449  120.85986395 121.32426304 121.81188209\n",
            " 122.29950113 122.76390023 123.25151927]\n"
          ]
        }
      ]
    }
  ]
}