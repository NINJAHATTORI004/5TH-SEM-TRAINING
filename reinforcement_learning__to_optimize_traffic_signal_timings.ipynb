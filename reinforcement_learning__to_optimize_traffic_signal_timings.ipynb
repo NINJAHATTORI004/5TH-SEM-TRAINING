{
  "nbformat": 4,
  "nbformat_minor": 0,
  "metadata": {
    "colab": {
      "provenance": [],
      "authorship_tag": "ABX9TyN1z/ToxqQGldOFCm0CGjY7",
      "include_colab_link": true
    },
    "kernelspec": {
      "name": "python3",
      "display_name": "Python 3"
    },
    "language_info": {
      "name": "python"
    }
  },
  "cells": [
    {
      "cell_type": "markdown",
      "metadata": {
        "id": "view-in-github",
        "colab_type": "text"
      },
      "source": [
        "<a href=\"https://colab.research.google.com/github/NINJAHATTORI004/5TH-SEM-TRAINING/blob/main/reinforcement_learning__to_optimize_traffic_signal_timings.ipynb\" target=\"_parent\"><img src=\"https://colab.research.google.com/assets/colab-badge.svg\" alt=\"Open In Colab\"/></a>"
      ]
    },
    {
      "cell_type": "code",
      "execution_count": 2,
      "metadata": {
        "colab": {
          "base_uri": "https://localhost:8080/"
        },
        "id": "hgpa8pdoouda",
        "outputId": "f2327e82-122d-40e1-816d-ca7fa94b92b0"
      },
      "outputs": [
        {
          "output_type": "stream",
          "name": "stdout",
          "text": [
            "Initial State: [ 8  9 12  8]\n",
            "Action (signal timings): [24 30 19 32]\n",
            "Next State: [16 13  6  6]\n",
            "Reward: 0\n",
            "Done: False\n",
            "Info: {'waiting_times': array([0., 0., 0., 0.])}\n",
            "Current Time: 1\n",
            "Current State (Traffic Flow): [16 13  6  6]\n",
            "Cumulative Waiting Times: [0. 0. 0. 0.]\n"
          ]
        }
      ],
      "source": [
        "import gym\n",
        "import numpy as np\n",
        "from gym import spaces\n",
        "\n",
        "class TrafficSignalEnv(gym.Env):\n",
        "    def __init__(self):\n",
        "        super(TrafficSignalEnv, self).__init__()\n",
        "\n",
        "        # State space: traffic flow from 4 directions\n",
        "        self.observation_space = spaces.Box(low=0, high=100, shape=(4,), dtype=np.int32)\n",
        "\n",
        "        # Action space: green light duration for each direction (in seconds)\n",
        "        self.action_space = spaces.Box(low=10, high=60, shape=(4,), dtype=np.int32)\n",
        "\n",
        "        # Traffic flow data (simulated)\n",
        "        self.traffic_flow = np.random.randint(0, 20, size=(4, 60))\n",
        "\n",
        "        self.current_time = 0\n",
        "        self.waiting_times = np.zeros(4)\n",
        "\n",
        "    def reset(self):\n",
        "        self.current_time = 0\n",
        "        self.waiting_times = np.zeros(4)\n",
        "        return self._get_state()\n",
        "\n",
        "    def _get_state(self):\n",
        "        # Return current traffic flow from all directions\n",
        "        return self.traffic_flow[:, self.current_time]\n",
        "\n",
        "    def step(self, action):\n",
        "        # action: array of 4 values representing green light duration for each direction\n",
        "        total_waiting_time = 0\n",
        "\n",
        "        # Calculate waiting times based on signal timings\n",
        "        for direction in range(4):\n",
        "            green_time = action[direction]\n",
        "            vehicles = self.traffic_flow[direction, self.current_time]\n",
        "\n",
        "            # Simple waiting time calculation:\n",
        "            # If green time is less than needed for vehicles to pass,\n",
        "            # remaining vehicles need to wait\n",
        "            vehicles_per_second = 2  # assumption: 2 vehicles can pass per second\n",
        "            vehicles_passed = green_time * vehicles_per_second\n",
        "            waiting_vehicles = max(0, vehicles - vehicles_passed)\n",
        "\n",
        "            self.waiting_times[direction] += waiting_vehicles\n",
        "            total_waiting_time += waiting_vehicles\n",
        "\n",
        "        # Move to next time step\n",
        "        self.current_time += 1\n",
        "        done = self.current_time >= 60\n",
        "\n",
        "        # Reward is negative of total waiting time\n",
        "        reward = -total_waiting_time\n",
        "\n",
        "        return self._get_state(), reward, done, {\"waiting_times\": self.waiting_times}\n",
        "\n",
        "    def render(self, mode='human'):\n",
        "        print(f\"Current Time: {self.current_time}\")\n",
        "        print(f\"Current State (Traffic Flow): {self._get_state()}\")\n",
        "        print(f\"Cumulative Waiting Times: {self.waiting_times}\")\n",
        "\n",
        "# Example usage\n",
        "if __name__ == \"__main__\":\n",
        "    env = TrafficSignalEnv()\n",
        "\n",
        "    # Reset the environment\n",
        "    initial_state = env.reset()\n",
        "    print(\"Initial State:\", initial_state)\n",
        "\n",
        "    # Simulate one step with random action (signal timings)\n",
        "    action = env.action_space.sample()\n",
        "    print(\"Action (signal timings):\", action)\n",
        "\n",
        "    next_state, reward, done, info = env.step(action)\n",
        "    print(\"Next State:\", next_state)\n",
        "    print(\"Reward:\", reward)\n",
        "    print(\"Done:\", done)\n",
        "    print(\"Info:\", info)\n",
        "\n",
        "    env.render()\n",
        "\n",
        "\n",
        "\n"
      ]
    }
  ]
}