{
  "nbformat": 4,
  "nbformat_minor": 0,
  "metadata": {
    "colab": {
      "provenance": [],
      "authorship_tag": "ABX9TyOnxhDsK0g1xyZCVPyiGfeF",
      "include_colab_link": true
    },
    "kernelspec": {
      "name": "python3",
      "display_name": "Python 3"
    },
    "language_info": {
      "name": "python"
    }
  },
  "cells": [
    {
      "cell_type": "markdown",
      "metadata": {
        "id": "view-in-github",
        "colab_type": "text"
      },
      "source": [
        "<a href=\"https://colab.research.google.com/github/NINJAHATTORI004/5TH-SEM-TRAINING/blob/main/Untitled1.ipynb\" target=\"_parent\"><img src=\"https://colab.research.google.com/assets/colab-badge.svg\" alt=\"Open In Colab\"/></a>"
      ]
    },
    {
      "cell_type": "code",
      "execution_count": null,
      "metadata": {
        "id": "1UsTvdcVGneB"
      },
      "outputs": [],
      "source": [
        "# Import necessary libraries\n",
        "import pandas as pd\n",
        "from sklearn.model_selection import train_test_split\n",
        "from sklearn.linear_model import LinearRegression\n",
        "from sklearn.metrics import mean_squared_error, r2_score\n",
        "\n",
        "# Define the dataset\n",
        "data = {\n",
        "    'TV': [230, 37, 39, 151, 180],\n",
        "    'Radio': [37, 45, 41, 40, 10],\n",
        "    'Newspaper': [69, 58, 45, 40, 64],\n",
        "    'Sales': [22.1, 10.2, 7.1, 14.2, 15.0]\n",
        "}\n",
        "df = pd.DataFrame(data)\n",
        "\n",
        "# Define features (X) and target (y)\n",
        "X = df[['TV', 'Radio', 'Newspaper']]\n",
        "y = df['Sales']\n",
        "\n",
        "# Split the dataset into training and testing sets\n",
        "X_train, X_test, y_train, y_test = train_test_split(X, y, test_size=0.2, random_state=42)\n",
        "\n",
        "# Create and train the Linear Regression model\n",
        "model = LinearRegression()\n",
        "model.fit(X_train, y_train)\n",
        "\n",
        "# Make predictions on the test set\n",
        "y_pred = model.predict(X_test)\n",
        "\n",
        "# Evaluate the model\n",
        "mse = mean_squared_error(y_test, y_pred)\n",
        "r2 = r2_score(y_test, y_pred)\n",
        "\n",
        "# Output results\n",
        "print(\"Linear Regression Model Results\")\n",
        "print(f\"Mean Squared Error: {mse}\")\n",
        "print(f\"R² Score: {r2}\")\n",
        "print(f\"Intercept: {model.intercept_}\")\n",
        "print(f\"Coefficients: {model.coef_} (TV, Radio, Newspaper)\")\n",
        "\n",
        "# Predict sales for new advertising data (optional)\n",
        "new_data = pd.DataFrame({\n",
        "    'TV': [200, 150],\n",
        "    'Radio': [40, 30],\n",
        "    'Newspaper': [50, 20]\n",
        "})\n",
        "predicted_sales = model.predict(new_data)\n",
        "print(\"\\nPredicted Sales for New Data:\")\n",
        "print(predicted_sales)"
      ]
    }
  ]
}