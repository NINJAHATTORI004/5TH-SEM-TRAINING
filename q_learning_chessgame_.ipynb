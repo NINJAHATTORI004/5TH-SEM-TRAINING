{
  "nbformat": 4,
  "nbformat_minor": 0,
  "metadata": {
    "colab": {
      "provenance": [],
      "authorship_tag": "ABX9TyMrj8D9svDJMfCKK1yyr/2d",
      "include_colab_link": true
    },
    "kernelspec": {
      "name": "python3",
      "display_name": "Python 3"
    },
    "language_info": {
      "name": "python"
    }
  },
  "cells": [
    {
      "cell_type": "markdown",
      "metadata": {
        "id": "view-in-github",
        "colab_type": "text"
      },
      "source": [
        "<a href=\"https://colab.research.google.com/github/NINJAHATTORI004/5TH-SEM-TRAINING/blob/main/q_learning_chessgame_.ipynb\" target=\"_parent\"><img src=\"https://colab.research.google.com/assets/colab-badge.svg\" alt=\"Open In Colab\"/></a>"
      ]
    },
    {
      "cell_type": "code",
      "source": [
        "from IPython import get_ipython\n",
        "from IPython.display import display\n",
        "!pip install python-chess\n",
        "import chess\n",
        "import random\n",
        "import numpy as np\n",
        "board=chess.Board()\n",
        "Q={}\n",
        "alpha=0.1\n",
        "gamma=0.5\n",
        "epsilon=0.1\n",
        "n_episodes = 1000\n",
        "def state_to_str(state):\n",
        "  return state.fen()\n",
        "def get_valid_moves(state):\n",
        "  return list(state.legal_moves)\n",
        "def update_q_value(state,action,reward,next_state):\n",
        "  current_q = Q.get((state_to_str(state),action),0)\n",
        "  max_future_q=max([Q.get((state_to_str(next_state),next_action),0)for next_action in get_valid_moves(next_state)])\n",
        "  Q[(state_to_str(state),action)]=current_q+alpha*(reward+gamma*max_future_q-current_q)\n",
        "def chooose_action(state):\n",
        "  if random.uniform(0,1)<epsilon:\n",
        "    return random.choice(get_valid_moves(state))\n",
        "  else:\n",
        "    valid_moves = get_valid_moves(state)\n",
        "    q_values = [Q.get((state_to_str(state),move),0) for move in valid_moves]\n",
        "    max_q = max(q_values)\n",
        "    best_moves = [valid_moves[i] for i,q in enumerate(q_values) if q==max_q]\n",
        "    return random.choice(best_moves)\n",
        "def get_reward(state,action,next_state):\n",
        "  if next_state.is_checkmate():\n",
        "    return 1\n",
        "  elif next_state.is_stalemate() or next_state.is_insufficient_material():\n",
        "    return 0.5\n",
        "  elif next_state.is_game_over():\n",
        "    return -1\n",
        "  else:\n",
        "    return 0\n",
        "def play_game():\n",
        "  board = chess.Board()\n",
        "  total_reward=0\n",
        "  done=False\n",
        "  while not done:\n",
        "    current_state=board.copy()\n",
        "    action=chooose_action(board)\n",
        "    board.push(action)\n",
        "  reward=get_reward(current_state,action,board)\n",
        "  total_reward+=reward\n",
        "  next_state=board.copy()\n",
        "  update_q_value(current_state,action,reward,next_state)\n",
        "  if board.is_game_over():\n",
        "    done=True\n",
        "  return total_reward\n",
        "def train_agent():\n",
        "  \"\"\"Train the Q-learning agent by playing multiple Games\"\"\"\n",
        "  for episode in range(n_episodes):\n",
        "    reward = play_game()\n",
        "    if episode % 100 == 0:\n",
        "      print(f\"Episode{episode}/{n_episodes}:Total Reward:{reward}\")\n",
        "train_agent()\n",
        "def test_agent():\n",
        "  board = chess_Board()\n",
        "  while not board.is_game_over():\n",
        "    if board.turn == chess.WHITE:\n",
        "      action = chooose_action(board)\n",
        "      print(\"Agent plays:\",action)\n",
        "    else:\n",
        "      action = random.choice(get_valid_moves(board))\n",
        "      print(\"Opponent plays:\",action)\n",
        "    board.push(action)\n",
        "    print(board)\n",
        "test_agent()"
      ],
      "metadata": {
        "colab": {
          "base_uri": "https://localhost:8080/"
        },
        "id": "PxX6_IBiZk50",
        "outputId": "0006aa06-355d-4226-d09c-2f8127543bef"
      },
      "execution_count": null,
      "outputs": [
        {
          "output_type": "stream",
          "name": "stdout",
          "text": [
            "Collecting python-chess\n",
            "  Downloading python_chess-1.999-py3-none-any.whl.metadata (776 bytes)\n",
            "Collecting chess<2,>=1 (from python-chess)\n",
            "  Downloading chess-1.11.1.tar.gz (156 kB)\n",
            "\u001b[2K     \u001b[90m━━━━━━━━━━━━━━━━━━━━━━━━━━━━━━━━━━━━━━━━\u001b[0m \u001b[32m156.5/156.5 kB\u001b[0m \u001b[31m2.9 MB/s\u001b[0m eta \u001b[36m0:00:00\u001b[0m\n",
            "\u001b[?25h  Preparing metadata (setup.py) ... \u001b[?25l\u001b[?25hdone\n",
            "Downloading python_chess-1.999-py3-none-any.whl (1.4 kB)\n",
            "Building wheels for collected packages: chess\n",
            "  Building wheel for chess (setup.py) ... \u001b[?25l\u001b[?25hdone\n",
            "  Created wheel for chess: filename=chess-1.11.1-py3-none-any.whl size=148497 sha256=c801b944bce1528d70d41cc6c8f60217c7af1f21e41f5cd2501ba5b5098771e3\n",
            "  Stored in directory: /root/.cache/pip/wheels/2e/2d/23/1bfc95db984ed3ecbf6764167dc7526d0ab521cf9a9852544e\n",
            "Successfully built chess\n",
            "Installing collected packages: chess, python-chess\n",
            "Successfully installed chess-1.11.1 python-chess-1.999\n"
          ]
        }
      ]
    }
  ]
}